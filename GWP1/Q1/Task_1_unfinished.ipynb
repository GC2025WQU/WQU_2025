{
 "cells": [
  {
   "cell_type": "code",
   "execution_count": 3,
   "id": "e8045ece-1983-4d24-9a6a-540f576cd40e",
   "metadata": {},
   "outputs": [],
   "source": [
    "import numpy as np \n",
    "import pandas as pd"
   ]
  },
  {
   "cell_type": "markdown",
   "id": "35faaa01-7217-46fc-9376-eba05aad7601",
   "metadata": {},
   "source": [
    "***Tasks***\n",
    "*1. Data Quality*\n",
    "\n",
    "a. Provide an example of poor quality structured data\n",
    "\n",
    "b. How would you recognize this poor quality? Write 3 - 4 sentences that show how the data fails to include properties of good quality data.\n",
    "\n",
    "c. Provide an example of poor quality unstructured data\n",
    "\n",
    "d. Unstructured data can be more difficult to assess than structured data. Just as you did in part b, write 3 - 4 sentences that show how this unstructured data fails to check requirements of good quality data."
   ]
  },
  {
   "cell_type": "markdown",
   "id": "d55d214f-aec0-4adc-baf4-07f1cf979473",
   "metadata": {},
   "source": [
    "*Example of poor quality structured data*"
   ]
  },
  {
   "cell_type": "code",
   "execution_count": 11,
   "id": "0f691295-a5fd-4cc7-8097-3e9136ac2271",
   "metadata": {},
   "outputs": [
    {
     "data": {
      "text/html": [
       "<div>\n",
       "<style scoped>\n",
       "    .dataframe tbody tr th:only-of-type {\n",
       "        vertical-align: middle;\n",
       "    }\n",
       "\n",
       "    .dataframe tbody tr th {\n",
       "        vertical-align: top;\n",
       "    }\n",
       "\n",
       "    .dataframe thead th {\n",
       "        text-align: right;\n",
       "    }\n",
       "</style>\n",
       "<table border=\"1\" class=\"dataframe\">\n",
       "  <thead>\n",
       "    <tr style=\"text-align: right;\">\n",
       "      <th></th>\n",
       "      <th>person_id</th>\n",
       "      <th>name</th>\n",
       "      <th>email</th>\n",
       "      <th>phone</th>\n",
       "      <th>linkedin</th>\n",
       "    </tr>\n",
       "  </thead>\n",
       "  <tbody>\n",
       "    <tr>\n",
       "      <th>0</th>\n",
       "      <td>1</td>\n",
       "      <td>Database Administrator</td>\n",
       "      <td>NaN</td>\n",
       "      <td>NaN</td>\n",
       "      <td>NaN</td>\n",
       "    </tr>\n",
       "    <tr>\n",
       "      <th>1</th>\n",
       "      <td>2</td>\n",
       "      <td>Database Administrator</td>\n",
       "      <td>NaN</td>\n",
       "      <td>NaN</td>\n",
       "      <td>NaN</td>\n",
       "    </tr>\n",
       "    <tr>\n",
       "      <th>2</th>\n",
       "      <td>3</td>\n",
       "      <td>Oracle Database Administrator</td>\n",
       "      <td>NaN</td>\n",
       "      <td>NaN</td>\n",
       "      <td>NaN</td>\n",
       "    </tr>\n",
       "    <tr>\n",
       "      <th>3</th>\n",
       "      <td>4</td>\n",
       "      <td>Amazon Redshift Administrator and ETL Develope...</td>\n",
       "      <td>NaN</td>\n",
       "      <td>NaN</td>\n",
       "      <td>NaN</td>\n",
       "    </tr>\n",
       "    <tr>\n",
       "      <th>4</th>\n",
       "      <td>5</td>\n",
       "      <td>Scrum Master Scrum Master Scrum Master</td>\n",
       "      <td>NaN</td>\n",
       "      <td>NaN</td>\n",
       "      <td>NaN</td>\n",
       "    </tr>\n",
       "  </tbody>\n",
       "</table>\n",
       "</div>"
      ],
      "text/plain": [
       "   person_id                                               name email phone  \\\n",
       "0          1                             Database Administrator   NaN   NaN   \n",
       "1          2                             Database Administrator   NaN   NaN   \n",
       "2          3                      Oracle Database Administrator   NaN   NaN   \n",
       "3          4  Amazon Redshift Administrator and ETL Develope...   NaN   NaN   \n",
       "4          5             Scrum Master Scrum Master Scrum Master   NaN   NaN   \n",
       "\n",
       "  linkedin  \n",
       "0      NaN  \n",
       "1      NaN  \n",
       "2      NaN  \n",
       "3      NaN  \n",
       "4      NaN  "
      ]
     },
     "execution_count": 11,
     "metadata": {},
     "output_type": "execute_result"
    }
   ],
   "source": [
    "# source: https://www.kaggle.com/datasets/suriyaganesh/resume-dataset-structured?select=01_people.csv\n",
    "\n",
    "# Load dataset  \n",
    "file_path = \"01_people.csv\"  \n",
    "people = pd.read_csv(file_path)  \n",
    "\n",
    "# Display dataset preview  \n",
    "people.head()"
   ]
  },
  {
   "cell_type": "code",
   "execution_count": 37,
   "id": "4b24dea6-b140-441f-8c1b-1842b9d07156",
   "metadata": {},
   "outputs": [
    {
     "data": {
      "text/plain": [
       "person_id        0\n",
       "name           114\n",
       "email        53340\n",
       "phone        53100\n",
       "linkedin     46395\n",
       "dtype: int64"
      ]
     },
     "execution_count": 37,
     "metadata": {},
     "output_type": "execute_result"
    }
   ],
   "source": [
    "missing = people.isnull().sum()\n",
    "missing"
   ]
  },
  {
   "cell_type": "code",
   "execution_count": 19,
   "id": "47839af5-4c16-465e-9e2b-8d26f7140bd7",
   "metadata": {},
   "outputs": [
    {
     "name": "stdout",
     "output_type": "stream",
     "text": [
      "<class 'pandas.core.frame.DataFrame'>\n",
      "RangeIndex: 54933 entries, 0 to 54932\n",
      "Data columns (total 5 columns):\n",
      " #   Column     Non-Null Count  Dtype \n",
      "---  ------     --------------  ----- \n",
      " 0   person_id  54933 non-null  int64 \n",
      " 1   name       54819 non-null  object\n",
      " 2   email      1593 non-null   object\n",
      " 3   phone      1833 non-null   object\n",
      " 4   linkedin   8538 non-null   object\n",
      "dtypes: int64(1), object(4)\n",
      "memory usage: 2.1+ MB\n",
      "None\n",
      "(54933, 5)\n"
     ]
    }
   ],
   "source": [
    "print(people.info())\n",
    "print(people.shape)"
   ]
  },
  {
   "cell_type": "markdown",
   "id": "c0847ae4-a309-4e3f-8402-dad41cf5c646",
   "metadata": {},
   "source": [
    "# Table Schemas    \n",
    "\n",
    "| Column Name | Data Type     | Description                        | Constraints             | Example                     |\n",
    "|-------------|--------------|------------------------------------|-------------------------|-----------------------------|\n",
    "| person_id   | INTEGER      | Unique identifier for each person  | Primary Key, Not Null   | 1                           |\n",
    "| name        | VARCHAR(255) | Full name of the person            | May be Null             | \"Database Administrator\"    |\n",
    "| email       | VARCHAR(255) | Email address                      | May be Null             | \"john.doe@email.com\"        |\n",
    "| phone       | VARCHAR(50)  | Contact number                     | May be Null             | \"+1-555-0123\"               |\n",
    "| linkedin    | VARCHAR(255) | LinkedIn profile URL               | May be Null             | \"linkedin.com/in/johndoe\"   |\n"
   ]
  },
  {
   "cell_type": "markdown",
   "id": "28fbcd88-a301-4241-a187-3d960cd66df0",
   "metadata": {},
   "source": [
    "**b. How would you recognize this poor quality?**\n",
    "\n",
    "When we first examined the dataset, we observed that many of the key fields were blank: columns such as email (97%missing), phone (97%missing), and LinkedIn (85%missing), which immediately made the table feel *incomplete*. As we looked closer, we noticed the name column is inconsistent, often containing job titles instead of individuals' names. The name column also contain inaccurate entry like one row listed “Scrum Master” three times. These are exactly the kinds of problems that Domo (2023) and Freeman (2024) describe when discussing poor data quality: missing values, inconsistent records, and information that can’t really be trusted.\n",
    "| Field      | Missing Values |\n",
    "|------------|----------------|\n",
    "| person_id  | 0              |\n",
    "| name       | 114            |\n",
    "| email      | 53,340         |\n",
    "| phone      | 53,100         |\n",
    "| linkedin   | 46,395         |"
   ]
  },
  {
   "cell_type": "code",
   "execution_count": 63,
   "id": "124ba46d-771a-4015-a94b-309241799d5c",
   "metadata": {},
   "outputs": [
    {
     "data": {
      "text/html": [
       "<div>\n",
       "<style scoped>\n",
       "    .dataframe tbody tr th:only-of-type {\n",
       "        vertical-align: middle;\n",
       "    }\n",
       "\n",
       "    .dataframe tbody tr th {\n",
       "        vertical-align: top;\n",
       "    }\n",
       "\n",
       "    .dataframe thead th {\n",
       "        text-align: right;\n",
       "    }\n",
       "</style>\n",
       "<table border=\"1\" class=\"dataframe\">\n",
       "  <thead>\n",
       "    <tr style=\"text-align: right;\">\n",
       "      <th></th>\n",
       "      <th>v1</th>\n",
       "      <th>v2</th>\n",
       "      <th>Unnamed: 2</th>\n",
       "      <th>Unnamed: 3</th>\n",
       "      <th>Unnamed: 4</th>\n",
       "    </tr>\n",
       "  </thead>\n",
       "  <tbody>\n",
       "    <tr>\n",
       "      <th>0</th>\n",
       "      <td>ham</td>\n",
       "      <td>Go until jurong point, crazy.. Available only ...</td>\n",
       "      <td>NaN</td>\n",
       "      <td>NaN</td>\n",
       "      <td>NaN</td>\n",
       "    </tr>\n",
       "    <tr>\n",
       "      <th>1</th>\n",
       "      <td>ham</td>\n",
       "      <td>Ok lar... Joking wif u oni...</td>\n",
       "      <td>NaN</td>\n",
       "      <td>NaN</td>\n",
       "      <td>NaN</td>\n",
       "    </tr>\n",
       "    <tr>\n",
       "      <th>2</th>\n",
       "      <td>spam</td>\n",
       "      <td>Free entry in 2 a wkly comp to win FA Cup fina...</td>\n",
       "      <td>NaN</td>\n",
       "      <td>NaN</td>\n",
       "      <td>NaN</td>\n",
       "    </tr>\n",
       "    <tr>\n",
       "      <th>3</th>\n",
       "      <td>ham</td>\n",
       "      <td>U dun say so early hor... U c already then say...</td>\n",
       "      <td>NaN</td>\n",
       "      <td>NaN</td>\n",
       "      <td>NaN</td>\n",
       "    </tr>\n",
       "    <tr>\n",
       "      <th>4</th>\n",
       "      <td>ham</td>\n",
       "      <td>Nah I don't think he goes to usf, he lives aro...</td>\n",
       "      <td>NaN</td>\n",
       "      <td>NaN</td>\n",
       "      <td>NaN</td>\n",
       "    </tr>\n",
       "  </tbody>\n",
       "</table>\n",
       "</div>"
      ],
      "text/plain": [
       "     v1                                                 v2 Unnamed: 2  \\\n",
       "0   ham  Go until jurong point, crazy.. Available only ...        NaN   \n",
       "1   ham                      Ok lar... Joking wif u oni...        NaN   \n",
       "2  spam  Free entry in 2 a wkly comp to win FA Cup fina...        NaN   \n",
       "3   ham  U dun say so early hor... U c already then say...        NaN   \n",
       "4   ham  Nah I don't think he goes to usf, he lives aro...        NaN   \n",
       "\n",
       "  Unnamed: 3 Unnamed: 4  \n",
       "0        NaN        NaN  \n",
       "1        NaN        NaN  \n",
       "2        NaN        NaN  \n",
       "3        NaN        NaN  \n",
       "4        NaN        NaN  "
      ]
     },
     "execution_count": 63,
     "metadata": {},
     "output_type": "execute_result"
    }
   ],
   "source": [
    "# source: https://www.kaggle.com/datasets/uciml/sms-spam-collection-dataset\n",
    "\n",
    "# Load dataset  \n",
    "file_path_ = \"spam.csv\"  \n",
    "spam = pd.read_csv(file_path_, encoding=\"latin1\") \n",
    "\n",
    "# Display dataset preview  \n",
    "spam.head()"
   ]
  },
  {
   "cell_type": "markdown",
   "id": "83e64c6a-2d69-491c-bedf-b2c7e9593b31",
   "metadata": {},
   "source": [
    "### v1 (class)\n",
    "- Values: ham (87%), spam (13%)\n",
    "- Total: 5572\n",
    "- Unique values: 2\n",
    "- Most common: ham\n",
    "\n",
    "### v2 (sms)\n",
    "- Total messages: 5572\n",
    "- Unique messages: 5169\n",
    "- Most common: \"Sorry, I'll call later\"\n",
    "\n",
    "### Other columns (Unnamed: 2–4)\n",
    "- Mostly empty or missing\n",
    "- Can be ignored for analysis"
   ]
  },
  {
   "cell_type": "code",
   "execution_count": 65,
   "id": "4f9b0014-984b-4772-906b-66ca106a231c",
   "metadata": {},
   "outputs": [
    {
     "data": {
      "text/plain": [
       "v1               0\n",
       "v2               0\n",
       "Unnamed: 2    5522\n",
       "Unnamed: 3    5560\n",
       "Unnamed: 4    5566\n",
       "dtype: int64"
      ]
     },
     "execution_count": 65,
     "metadata": {},
     "output_type": "execute_result"
    }
   ],
   "source": [
    "missing_ = spam.isnull().sum()\n",
    "missing_"
   ]
  },
  {
   "cell_type": "code",
   "execution_count": 67,
   "id": "4c73db06-6115-43d4-b33d-0204b21c96d6",
   "metadata": {},
   "outputs": [
    {
     "name": "stdout",
     "output_type": "stream",
     "text": [
      "<class 'pandas.core.frame.DataFrame'>\n",
      "RangeIndex: 5572 entries, 0 to 5571\n",
      "Data columns (total 5 columns):\n",
      " #   Column      Non-Null Count  Dtype \n",
      "---  ------      --------------  ----- \n",
      " 0   v1          5572 non-null   object\n",
      " 1   v2          5572 non-null   object\n",
      " 2   Unnamed: 2  50 non-null     object\n",
      " 3   Unnamed: 3  12 non-null     object\n",
      " 4   Unnamed: 4  6 non-null      object\n",
      "dtypes: object(5)\n",
      "memory usage: 217.8+ KB\n",
      "None\n",
      "(5572, 5)\n"
     ]
    }
   ],
   "source": [
    "print(spam.info())\n",
    "print(spam.shape)"
   ]
  },
  {
   "cell_type": "markdown",
   "id": "16e6a925-eb2b-41a3-8a73-a00f7d24d4da",
   "metadata": {},
   "source": [
    "This dataset is a messy example of unstructured data. The useful part is in the first two columns (v1 and v2), which contain the labels and messages, but then we can see the other columns (Unnamed: 2–4) that are basically empty. That kind of inconsistency makes it harder to trust the dataset. (MacDonald, 2025) described unstructured data as “messy” and often missing standardized labels, which fits this case pretty well. IBM also points out that when data is uneven like this, it’s easy to run into errors (IBM, 2023).\n",
    "\n",
    "If we were actually analyzing these text messages, we think the blank fields and the bad formatting would give inaccurate results, maybe the software would misread them or just give incomplete results. So, even though the dataset is usable, in its raw state it’s not great quality, and it shows the kind of problems we encounter with unstructured information.\n",
    "\n",
    "| #   | Column       | Non-Null Count | Dtype  |\n",
    "|-----|-------------|----------------|--------|\n",
    "| 0   | v1          | 5572 non-null  | object |\n",
    "| 1   | v2          | 5572 non-null  | object |\n",
    "| 2   | Unnamed: 2  | 50 non-null    | object |\n",
    "| 3   | Unnamed: 3  | 12 non-null    | object |\n",
    "| 4   | Unnamed: 4  | 6 non-null     | object |"
   ]
  }
 ],
 "metadata": {
  "kernelspec": {
   "display_name": "Python [conda env:base] *",
   "language": "python",
   "name": "conda-base-py"
  },
  "language_info": {
   "codemirror_mode": {
    "name": "ipython",
    "version": 3
   },
   "file_extension": ".py",
   "mimetype": "text/x-python",
   "name": "python",
   "nbconvert_exporter": "python",
   "pygments_lexer": "ipython3",
   "version": "3.12.3"
  }
 },
 "nbformat": 4,
 "nbformat_minor": 5
}
