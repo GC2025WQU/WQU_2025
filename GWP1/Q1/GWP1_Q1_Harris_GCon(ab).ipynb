{
 "cells": [
  {
   "cell_type": "code",
   "execution_count": 1,
   "id": "e8045ece-1983-4d24-9a6a-540f576cd40e",
   "metadata": {},
   "outputs": [],
   "source": [
    "import numpy as np \n",
    "import pandas as pd"
   ]
  },
  {
   "cell_type": "markdown",
   "id": "35faaa01-7217-46fc-9376-eba05aad7601",
   "metadata": {},
   "source": [
    "<div style=\"font-size: 18px; font-weight: bold;\">Task 1. Data Quality</div>\n",
    "\n",
    "a. Provide an example of poor quality structured data\n",
    "\n",
    "b. How would you recognize this poor quality? Write 3 - 4 sentences that show how the data fails to include properties of good quality data.\n",
    "\n",
    "c. Provide an example of poor quality unstructured data\n",
    "\n",
    "d. Unstructured data can be more difficult to assess than structured data. Just as you did in part b, write 3 - 4 sentences that show how this unstructured data fails to check requirements of good quality data."
   ]
  },
  {
   "cell_type": "markdown",
   "id": "d55d214f-aec0-4adc-baf4-07f1cf979473",
   "metadata": {},
   "source": [
    "<div style=\"font-size: 18px; font-weight: bold;\">a. Example of poor quality structured data</div>"
   ]
  },
  {
   "cell_type": "code",
   "execution_count": 2,
   "id": "0f691295-a5fd-4cc7-8097-3e9136ac2271",
   "metadata": {},
   "outputs": [
    {
     "data": {
      "text/html": [
       "<div>\n",
       "<style scoped>\n",
       "    .dataframe tbody tr th:only-of-type {\n",
       "        vertical-align: middle;\n",
       "    }\n",
       "\n",
       "    .dataframe tbody tr th {\n",
       "        vertical-align: top;\n",
       "    }\n",
       "\n",
       "    .dataframe thead th {\n",
       "        text-align: right;\n",
       "    }\n",
       "</style>\n",
       "<table border=\"1\" class=\"dataframe\">\n",
       "  <thead>\n",
       "    <tr style=\"text-align: right;\">\n",
       "      <th></th>\n",
       "      <th>person_id</th>\n",
       "      <th>name</th>\n",
       "      <th>email</th>\n",
       "      <th>phone</th>\n",
       "      <th>linkedin</th>\n",
       "    </tr>\n",
       "  </thead>\n",
       "  <tbody>\n",
       "    <tr>\n",
       "      <th>0</th>\n",
       "      <td>1</td>\n",
       "      <td>Database Administrator</td>\n",
       "      <td>NaN</td>\n",
       "      <td>NaN</td>\n",
       "      <td>NaN</td>\n",
       "    </tr>\n",
       "    <tr>\n",
       "      <th>1</th>\n",
       "      <td>2</td>\n",
       "      <td>Database Administrator</td>\n",
       "      <td>NaN</td>\n",
       "      <td>NaN</td>\n",
       "      <td>NaN</td>\n",
       "    </tr>\n",
       "    <tr>\n",
       "      <th>2</th>\n",
       "      <td>3</td>\n",
       "      <td>Oracle Database Administrator</td>\n",
       "      <td>NaN</td>\n",
       "      <td>NaN</td>\n",
       "      <td>NaN</td>\n",
       "    </tr>\n",
       "    <tr>\n",
       "      <th>3</th>\n",
       "      <td>4</td>\n",
       "      <td>Amazon Redshift Administrator and ETL Develope...</td>\n",
       "      <td>NaN</td>\n",
       "      <td>NaN</td>\n",
       "      <td>NaN</td>\n",
       "    </tr>\n",
       "    <tr>\n",
       "      <th>4</th>\n",
       "      <td>5</td>\n",
       "      <td>Scrum Master Scrum Master Scrum Master</td>\n",
       "      <td>NaN</td>\n",
       "      <td>NaN</td>\n",
       "      <td>NaN</td>\n",
       "    </tr>\n",
       "  </tbody>\n",
       "</table>\n",
       "</div>"
      ],
      "text/plain": [
       "   person_id                                               name email phone  \\\n",
       "0          1                             Database Administrator   NaN   NaN   \n",
       "1          2                             Database Administrator   NaN   NaN   \n",
       "2          3                      Oracle Database Administrator   NaN   NaN   \n",
       "3          4  Amazon Redshift Administrator and ETL Develope...   NaN   NaN   \n",
       "4          5             Scrum Master Scrum Master Scrum Master   NaN   NaN   \n",
       "\n",
       "  linkedin  \n",
       "0      NaN  \n",
       "1      NaN  \n",
       "2      NaN  \n",
       "3      NaN  \n",
       "4      NaN  "
      ]
     },
     "execution_count": 2,
     "metadata": {},
     "output_type": "execute_result"
    }
   ],
   "source": [
    "#Source:  https://www.kaggle.com/datasets/suriyaganesh/resume-dataset-structured?select=01_people.csv\n",
    "\n",
    "# Load dataset  \n",
    "file_path = r\"C:\\Users\\kaleu\\Desktop\\WQU\\GWP_Q1\\01_people.csv\"\n",
    "people = pd.read_csv(file_path)  \n",
    "\n",
    "# Display dataset preview  \n",
    "people.head()"
   ]
  },
  {
   "cell_type": "code",
   "execution_count": 3,
   "id": "4b24dea6-b140-441f-8c1b-1842b9d07156",
   "metadata": {},
   "outputs": [
    {
     "data": {
      "text/plain": [
       "person_id     0.00\n",
       "name          0.21\n",
       "email        97.10\n",
       "phone        96.66\n",
       "linkedin     84.46\n",
       "dtype: float64"
      ]
     },
     "execution_count": 3,
     "metadata": {},
     "output_type": "execute_result"
    }
   ],
   "source": [
    "missing = people.isnull().sum()\n",
    "missing_percent = (missing / len(people) * 100).round(2)\n",
    "missing_percent"
   ]
  },
  {
   "cell_type": "code",
   "execution_count": 4,
   "id": "47839af5-4c16-465e-9e2b-8d26f7140bd7",
   "metadata": {},
   "outputs": [
    {
     "name": "stdout",
     "output_type": "stream",
     "text": [
      "<class 'pandas.core.frame.DataFrame'>\n",
      "RangeIndex: 54933 entries, 0 to 54932\n",
      "Data columns (total 5 columns):\n",
      " #   Column     Non-Null Count  Dtype \n",
      "---  ------     --------------  ----- \n",
      " 0   person_id  54933 non-null  int64 \n",
      " 1   name       54819 non-null  object\n",
      " 2   email      1593 non-null   object\n",
      " 3   phone      1833 non-null   object\n",
      " 4   linkedin   8538 non-null   object\n",
      "dtypes: int64(1), object(4)\n",
      "memory usage: 2.1+ MB\n",
      "None\n",
      "(54933, 5)\n"
     ]
    }
   ],
   "source": [
    "print(people.info())\n",
    "print(people.shape)"
   ]
  },
  {
   "cell_type": "markdown",
   "id": "c0847ae4-a309-4e3f-8402-dad41cf5c646",
   "metadata": {},
   "source": [
    "<div style=\"font-size: 18px; font-weight: bold;\">Table Schemas</div>\n",
    "\n",
    "| Column Name | Data Type     | Description                        | Constraints             | Example                     |\n",
    "|-------------|--------------|------------------------------------|-------------------------|-----------------------------|\n",
    "| person_id   | INTEGER      | Unique identifier for each person  | Primary Key, Not Null   | 1                           |\n",
    "| name        | VARCHAR(255) | Full name of the person            | May be Null             | \"Database Administrator\"    |\n",
    "| email       | VARCHAR(255) | Email address                      | May be Null             | \"john.doe@email.com\"        |\n",
    "| phone       | VARCHAR(50)  | Contact number                     | May be Null             | \"+1-555-0123\"               |\n",
    "| linkedin    | VARCHAR(255) | LinkedIn profile URL               | May be Null             | \"linkedin.com/in/johndoe\"   |\n"
   ]
  },
  {
   "cell_type": "markdown",
   "id": "28fbcd88-a301-4241-a187-3d960cd66df0",
   "metadata": {},
   "source": [
    "<div style=\"font-size: 18px; font-weight: bold;\">b. How would you recognize this poor quality? </div>\n",
    "\n",
    "When we first examined the dataset, we observed that many of the key fields were blank: columns such as email(97%missing), phone(97%missing), and LinkedIn(85%missing), which immediately made the table feel **incomplete**. As we looked closer, we noticed the name column is **inconsistent**, often containing job titles instead of individuals' names. The name column also contain **inaccurate** entry like one row listed “Scrum Master” three times. These are exactly the kinds of problems that Domo (2023) and Freeman (2024) describe when discussing poor data quality: missing values, inconsistent records, and information that can’t really be trusted."
   ]
  },
  {
   "cell_type": "code",
   "execution_count": null,
   "id": "74034deb-0c37-4187-8e0e-190dec742752",
   "metadata": {},
   "outputs": [],
   "source": []
  }
 ],
 "metadata": {
  "kernelspec": {
   "display_name": "Python 3 (ipykernel)",
   "language": "python",
   "name": "python3"
  },
  "language_info": {
   "codemirror_mode": {
    "name": "ipython",
    "version": 3
   },
   "file_extension": ".py",
   "mimetype": "text/x-python",
   "name": "python",
   "nbconvert_exporter": "python",
   "pygments_lexer": "ipython3",
   "version": "3.13.5"
  }
 },
 "nbformat": 4,
 "nbformat_minor": 5
}
