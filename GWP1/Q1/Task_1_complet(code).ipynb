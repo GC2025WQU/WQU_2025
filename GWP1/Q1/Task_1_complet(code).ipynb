{
 "cells": [
  {
   "cell_type": "code",
   "execution_count": 1,
   "id": "e8045ece-1983-4d24-9a6a-540f576cd40e",
   "metadata": {},
   "outputs": [],
   "source": [
    "import numpy as np \n",
    "import pandas as pd"
   ]
  },
  {
   "cell_type": "markdown",
   "id": "d55d214f-aec0-4adc-baf4-07f1cf979473",
   "metadata": {},
   "source": [
    "<div style=\"font-size: 18px; font-weight: bold;\">a. Example of poor quality structured data</div>"
   ]
  },
  {
   "cell_type": "code",
   "execution_count": 8,
   "id": "0f691295-a5fd-4cc7-8097-3e9136ac2271",
   "metadata": {},
   "outputs": [
    {
     "data": {
      "text/html": [
       "<div>\n",
       "<style scoped>\n",
       "    .dataframe tbody tr th:only-of-type {\n",
       "        vertical-align: middle;\n",
       "    }\n",
       "\n",
       "    .dataframe tbody tr th {\n",
       "        vertical-align: top;\n",
       "    }\n",
       "\n",
       "    .dataframe thead th {\n",
       "        text-align: right;\n",
       "    }\n",
       "</style>\n",
       "<table border=\"1\" class=\"dataframe\">\n",
       "  <thead>\n",
       "    <tr style=\"text-align: right;\">\n",
       "      <th></th>\n",
       "      <th>person_id</th>\n",
       "      <th>name</th>\n",
       "      <th>email</th>\n",
       "      <th>phone</th>\n",
       "      <th>linkedin</th>\n",
       "    </tr>\n",
       "  </thead>\n",
       "  <tbody>\n",
       "    <tr>\n",
       "      <th>0</th>\n",
       "      <td>1</td>\n",
       "      <td>Database Administrator</td>\n",
       "      <td>NaN</td>\n",
       "      <td>NaN</td>\n",
       "      <td>NaN</td>\n",
       "    </tr>\n",
       "    <tr>\n",
       "      <th>1</th>\n",
       "      <td>2</td>\n",
       "      <td>Database Administrator</td>\n",
       "      <td>NaN</td>\n",
       "      <td>NaN</td>\n",
       "      <td>NaN</td>\n",
       "    </tr>\n",
       "    <tr>\n",
       "      <th>2</th>\n",
       "      <td>3</td>\n",
       "      <td>Oracle Database Administrator</td>\n",
       "      <td>NaN</td>\n",
       "      <td>NaN</td>\n",
       "      <td>NaN</td>\n",
       "    </tr>\n",
       "    <tr>\n",
       "      <th>3</th>\n",
       "      <td>4</td>\n",
       "      <td>Amazon Redshift Administrator and ETL Develope...</td>\n",
       "      <td>NaN</td>\n",
       "      <td>NaN</td>\n",
       "      <td>NaN</td>\n",
       "    </tr>\n",
       "    <tr>\n",
       "      <th>4</th>\n",
       "      <td>5</td>\n",
       "      <td>Scrum Master Scrum Master Scrum Master</td>\n",
       "      <td>NaN</td>\n",
       "      <td>NaN</td>\n",
       "      <td>NaN</td>\n",
       "    </tr>\n",
       "  </tbody>\n",
       "</table>\n",
       "</div>"
      ],
      "text/plain": [
       "   person_id                                               name email phone  \\\n",
       "0          1                             Database Administrator   NaN   NaN   \n",
       "1          2                             Database Administrator   NaN   NaN   \n",
       "2          3                      Oracle Database Administrator   NaN   NaN   \n",
       "3          4  Amazon Redshift Administrator and ETL Develope...   NaN   NaN   \n",
       "4          5             Scrum Master Scrum Master Scrum Master   NaN   NaN   \n",
       "\n",
       "  linkedin  \n",
       "0      NaN  \n",
       "1      NaN  \n",
       "2      NaN  \n",
       "3      NaN  \n",
       "4      NaN  "
      ]
     },
     "execution_count": 8,
     "metadata": {},
     "output_type": "execute_result"
    }
   ],
   "source": [
    "#Source:  https://www.kaggle.com/datasets/suriyaganesh/resume-dataset-structured?select=01_people.csv\n",
    "\n",
    "# Description: This dataset contains structured information extracted from professional resumes, normalized into multiple related tables\n",
    "\n",
    "# Load dataset  \n",
    "file_path = r\"C:\\Users\\kaleu\\Desktop\\WQU\\GWP_Q1\\01_people.csv\"\n",
    "people = pd.read_csv(file_path)  \n",
    "\n",
    "# Display dataset preview  \n",
    "people.head()"
   ]
  },
  {
   "cell_type": "code",
   "execution_count": 3,
   "id": "4b24dea6-b140-441f-8c1b-1842b9d07156",
   "metadata": {},
   "outputs": [
    {
     "data": {
      "text/plain": [
       "person_id     0.00\n",
       "name          0.21\n",
       "email        97.10\n",
       "phone        96.66\n",
       "linkedin     84.46\n",
       "dtype: float64"
      ]
     },
     "execution_count": 3,
     "metadata": {},
     "output_type": "execute_result"
    }
   ],
   "source": [
    "missing = people.isnull().sum()\n",
    "missing_percent = (missing / len(people) * 100).round(2)\n",
    "missing_percent"
   ]
  },
  {
   "cell_type": "code",
   "execution_count": 4,
   "id": "47839af5-4c16-465e-9e2b-8d26f7140bd7",
   "metadata": {},
   "outputs": [
    {
     "name": "stdout",
     "output_type": "stream",
     "text": [
      "<class 'pandas.core.frame.DataFrame'>\n",
      "RangeIndex: 54933 entries, 0 to 54932\n",
      "Data columns (total 5 columns):\n",
      " #   Column     Non-Null Count  Dtype \n",
      "---  ------     --------------  ----- \n",
      " 0   person_id  54933 non-null  int64 \n",
      " 1   name       54819 non-null  object\n",
      " 2   email      1593 non-null   object\n",
      " 3   phone      1833 non-null   object\n",
      " 4   linkedin   8538 non-null   object\n",
      "dtypes: int64(1), object(4)\n",
      "memory usage: 2.1+ MB\n",
      "None\n",
      "(54933, 5)\n"
     ]
    }
   ],
   "source": [
    "print(people.info())\n",
    "print(people.shape)"
   ]
  },
  {
   "cell_type": "markdown",
   "id": "c0847ae4-a309-4e3f-8402-dad41cf5c646",
   "metadata": {},
   "source": [
    "<div style=\"font-size: 18px; font-weight: bold;\">Table Schemas</div>\n",
    "\n",
    "| Column Name | Data Type     | Description                        | Constraints             | Example                     |\n",
    "|-------------|--------------|------------------------------------|-------------------------|-----------------------------|\n",
    "| person_id   | INTEGER      | Unique identifier for each person  | Primary Key, Not Null   | 1                           |\n",
    "| name        | VARCHAR(255) | Full name of the person            | May be Null             | \"Database Administrator\"    |\n",
    "| email       | VARCHAR(255) | Email address                      | May be Null             | \"john.doe@email.com\"        |\n",
    "| phone       | VARCHAR(50)  | Contact number                     | May be Null             | \"+1-555-0123\"               |\n",
    "| linkedin    | VARCHAR(255) | LinkedIn profile URL               | May be Null             | \"linkedin.com/in/johndoe\"   |\n"
   ]
  },
  {
   "cell_type": "markdown",
   "id": "3101d69d-d663-48e1-bd5a-7c85bf4ba7c0",
   "metadata": {},
   "source": [
    "<div style=\"font-size: 18px; font-weight: bold;\"> c. Provide an example of poor quality unstructured data </div>"
   ]
  },
  {
   "cell_type": "code",
   "execution_count": 34,
   "id": "dd0193c0-6581-4273-b516-cd5f39593ef6",
   "metadata": {},
   "outputs": [
    {
     "data": {
      "text/html": [
       "<div>\n",
       "<style scoped>\n",
       "    .dataframe tbody tr th:only-of-type {\n",
       "        vertical-align: middle;\n",
       "    }\n",
       "\n",
       "    .dataframe tbody tr th {\n",
       "        vertical-align: top;\n",
       "    }\n",
       "\n",
       "    .dataframe thead th {\n",
       "        text-align: right;\n",
       "    }\n",
       "</style>\n",
       "<table border=\"1\" class=\"dataframe\">\n",
       "  <thead>\n",
       "    <tr style=\"text-align: right;\">\n",
       "      <th></th>\n",
       "      <th>v1</th>\n",
       "      <th>v2</th>\n",
       "      <th>Unnamed: 2</th>\n",
       "      <th>Unnamed: 3</th>\n",
       "      <th>Unnamed: 4</th>\n",
       "    </tr>\n",
       "  </thead>\n",
       "  <tbody>\n",
       "    <tr>\n",
       "      <th>0</th>\n",
       "      <td>ham</td>\n",
       "      <td>Go until jurong point, crazy.. Available only ...</td>\n",
       "      <td>NaN</td>\n",
       "      <td>NaN</td>\n",
       "      <td>NaN</td>\n",
       "    </tr>\n",
       "    <tr>\n",
       "      <th>1</th>\n",
       "      <td>ham</td>\n",
       "      <td>Ok lar... Joking wif u oni...</td>\n",
       "      <td>NaN</td>\n",
       "      <td>NaN</td>\n",
       "      <td>NaN</td>\n",
       "    </tr>\n",
       "    <tr>\n",
       "      <th>2</th>\n",
       "      <td>spam</td>\n",
       "      <td>Free entry in 2 a wkly comp to win FA Cup fina...</td>\n",
       "      <td>NaN</td>\n",
       "      <td>NaN</td>\n",
       "      <td>NaN</td>\n",
       "    </tr>\n",
       "    <tr>\n",
       "      <th>3</th>\n",
       "      <td>ham</td>\n",
       "      <td>U dun say so early hor... U c already then say...</td>\n",
       "      <td>NaN</td>\n",
       "      <td>NaN</td>\n",
       "      <td>NaN</td>\n",
       "    </tr>\n",
       "    <tr>\n",
       "      <th>4</th>\n",
       "      <td>ham</td>\n",
       "      <td>Nah I don't think he goes to usf, he lives aro...</td>\n",
       "      <td>NaN</td>\n",
       "      <td>NaN</td>\n",
       "      <td>NaN</td>\n",
       "    </tr>\n",
       "  </tbody>\n",
       "</table>\n",
       "</div>"
      ],
      "text/plain": [
       "     v1                                                 v2 Unnamed: 2  \\\n",
       "0   ham  Go until jurong point, crazy.. Available only ...        NaN   \n",
       "1   ham                      Ok lar... Joking wif u oni...        NaN   \n",
       "2  spam  Free entry in 2 a wkly comp to win FA Cup fina...        NaN   \n",
       "3   ham  U dun say so early hor... U c already then say...        NaN   \n",
       "4   ham  Nah I don't think he goes to usf, he lives aro...        NaN   \n",
       "\n",
       "  Unnamed: 3 Unnamed: 4  \n",
       "0        NaN        NaN  \n",
       "1        NaN        NaN  \n",
       "2        NaN        NaN  \n",
       "3        NaN        NaN  \n",
       "4        NaN        NaN  "
      ]
     },
     "execution_count": 34,
     "metadata": {},
     "output_type": "execute_result"
    }
   ],
   "source": [
    "# source: https://www.kaggle.com/datasets/uciml/sms-spam-collection-dataset\n",
    "\n",
    "# Description: The files contain one SMS message per line. V1 and V2 are the main column, \n",
    "# v1 contains the class (ham or spam) and v2 contains the raw text.\n",
    "\n",
    "# Load dataset  \n",
    "file_path_ = r\"C:\\Users\\kaleu\\Desktop\\WQU\\GWP_Q1\\spam.csv\"\n",
    "spam = pd.read_csv(file_path_, encoding=\"latin1\") \n",
    "\n",
    "# Display dataset preview  \n",
    "spam.head()"
   ]
  },
  {
   "cell_type": "code",
   "execution_count": 32,
   "id": "dac52754-af36-4ad8-9553-23ad9dbb9357",
   "metadata": {},
   "outputs": [
    {
     "data": {
      "text/plain": [
       "v1             0.00\n",
       "v2             0.00\n",
       "Unnamed: 2    99.10\n",
       "Unnamed: 3    99.78\n",
       "Unnamed: 4    99.89\n",
       "dtype: float64"
      ]
     },
     "execution_count": 32,
     "metadata": {},
     "output_type": "execute_result"
    }
   ],
   "source": [
    "missing = spam.isnull().sum()\n",
    "missing_percent = (missing / len(spam) * 100).round(2)\n",
    "missing_percent"
   ]
  },
  {
   "cell_type": "code",
   "execution_count": 33,
   "id": "fe3149ee-ec1a-4a99-96fe-b1d09da48e89",
   "metadata": {},
   "outputs": [
    {
     "name": "stdout",
     "output_type": "stream",
     "text": [
      "<class 'pandas.core.frame.DataFrame'>\n",
      "RangeIndex: 5572 entries, 0 to 5571\n",
      "Data columns (total 5 columns):\n",
      " #   Column      Non-Null Count  Dtype \n",
      "---  ------      --------------  ----- \n",
      " 0   v1          5572 non-null   object\n",
      " 1   v2          5572 non-null   object\n",
      " 2   Unnamed: 2  50 non-null     object\n",
      " 3   Unnamed: 3  12 non-null     object\n",
      " 4   Unnamed: 4  6 non-null      object\n",
      "dtypes: object(5)\n",
      "memory usage: 217.8+ KB\n",
      "None\n",
      "(5572, 5)\n"
     ]
    }
   ],
   "source": [
    "print(spam.info())\n",
    "print(spam.shape)"
   ]
  },
  {
   "cell_type": "markdown",
   "id": "bfde32bc-131b-49c4-9e36-7bb89339ede4",
   "metadata": {},
   "source": [
    "<div style=\"font-size: 18px; font-weight: bold;\">Table Schemas</div>\n",
    "\n",
    "| Column Name | Data Type     | Description                        | Description2             | Example                     |\n",
    "|-------------|--------------|------------------------------------|-------------------------|-----------------------------|\n",
    "| v1   | VARCHAR(255)      | SMS Class  | 2 Unique values, ham (87%), spam (13%)   | \"ham\"                           |\n",
    "| v2        | VARCHAR(255) | SMS             | Long text that contain the message             | \"Your free ringtone is waiting to be collected....\t\"    |\n",
    "| Unnamed: 2       | VARCHAR(255) | unknown                      | No standard format             | \"PO Box 5249\"        |\n",
    "| Unnamed: 3       | VARCHAR(255)  | unknown                     | No standard format              | \"IåÕL CALL U\\\"               |\n",
    "| Unnamed: 4    | VARCHAR(255) | unknown               | No standard format              | \"GNT:-)\"   |\n"
   ]
  }
 ],
 "metadata": {
  "kernelspec": {
   "display_name": "Python [conda env:base] *",
   "language": "python",
   "name": "conda-base-py"
  },
  "language_info": {
   "codemirror_mode": {
    "name": "ipython",
    "version": 3
   },
   "file_extension": ".py",
   "mimetype": "text/x-python",
   "name": "python",
   "nbconvert_exporter": "python",
   "pygments_lexer": "ipython3",
   "version": "3.12.3"
  }
 },
 "nbformat": 4,
 "nbformat_minor": 5
}
