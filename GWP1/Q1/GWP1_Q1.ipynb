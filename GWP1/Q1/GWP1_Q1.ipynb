{
 "cells": [
  {
   "cell_type": "markdown",
   "metadata": {},
   "source": [
    "<span style=\"font-size: 18px;\">a. Provide an example of poor quality structured data</span>"
   ]
  },
  {
   "cell_type": "code",
   "execution_count": 33,
   "metadata": {},
   "outputs": [
    {
     "name": "stdout",
     "output_type": "stream",
     "text": [
      "         Date  Short-term Yield (%)  Long-term Yield (%)\n",
      "0  2024-09-24                   4.5                  3.8\n",
      "1  2024-09-25                   4.6                  NaN\n",
      "2  2024-09-26                   4.7                  3.9\n",
      "3  2024-09-26                   4.7                  NaN\n",
      "4  2024-09-28                  45.0                 39.0\n",
      "5  2024-09-29                   4.8                  NaN\n"
     ]
    }
   ],
   "source": [
    "## Sample data for Q1\n",
    "\n",
    "import pandas as pd\n",
    "from datetime import datetime, timedelta\n",
    "\n",
    "start_date = datetime(2024, 9, 24)\n",
    "dates = [start_date + timedelta(days=x) for x in range(6)]\n",
    "\n",
    "dates[3] = dates[2]  \n",
    "short_term_yields = [4.5, 4.6, 4.7, 4.7, 45.0, 4.8]\n",
    "long_term_yields = [3.8, None, 3.9, None, 39.0, None]\n",
    "\n",
    "data = {\n",
    "    'Date': [d.strftime('%Y-%m-%d') for d in dates],\n",
    "    'Short-term Yield (%)': short_term_yields,\n",
    "    'Long-term Yield (%)': long_term_yields\n",
    "}\n",
    "df = pd.DataFrame(data)\n",
    "\n",
    "print(df)"
   ]
  },
  {
   "cell_type": "markdown",
   "metadata": {},
   "source": [
    "<span style=\"font-size: 18px;\">b. How would you recognize this poor quality? Write 3 - 4 sentences that show how the data fails to include properties of good quality data.</span>"
   ]
  },
  {
   "cell_type": "markdown",
   "metadata": {},
   "source": [
    "Accuracy: Duplicate date indices detected.  \n",
    "Completeness: Missing long-term yield information for 50% of the data.  \n",
    "Consistency: For a specific date, the value is 10 times higher than other dates, which is inconsistent and may indicate an issue.  \n",
    "Timeliness: The data used is one year old. "
   ]
  },
  {
   "cell_type": "markdown",
   "metadata": {},
   "source": [
    "<span style=\"font-size: 18px;\">c. Provide an example of poor quality unstructured data</span>"
   ]
  },
  {
   "cell_type": "markdown",
   "metadata": {},
   "source": [
    "Review 1: \n",
    "Product: Pro Max \n",
    "\"Like this. Bought it last week in New York.\" \n",
    "Rating: 5 stars \n",
    "Date: 12/03/25 \n",
    "Reviewer: A \n",
    "\n",
    "Review 2: \n",
    "Product: “” \n",
    "\"Good.\" \n",
    "Rating: 3 stars \n",
    "Date: 03/12/2025 \n",
    "Reviewer: B \n",
    "\n",
    "Review 3: \n",
    "Product: Pro Max \n",
    "\"recommended” \n",
    "Rating: 4.5 stars \n",
    "Date: 15/05/25 \n",
    "Reviewer: C \n",
    "\n",
    "Review 4: \n",
    "Product: Pro Max \n",
    "\"Bought in the US, Disappointed.\" \n",
    "Rating: 1 star \n",
    "Date: 06/15/2025 \n",
    "Reviewer: D  \n",
    "\n",
    "[No reviews available for April 2025] "
   ]
  },
  {
   "cell_type": "markdown",
   "metadata": {},
   "source": [
    "<span style=\"font-size: 18px;\">d. Unstructured data can be more difficult to assess than structured data. Just as you did in part b, write 3 - 4 sentences that show how this unstructured data fails to check requirements of good quality data.</span>"
   ]
  },
  {
   "cell_type": "markdown",
   "metadata": {},
   "source": [
    "Accuracy: The product was purchased in the US, but it is not actually sold in the US.  \n",
    "Completeness: The product name is missing, making it unclear which product the review corresponds to.  \n",
    "Consistency: The date format is inconsistent, with some entries using DD/MM/YY and others using MM/DD/YY.  \n",
    "Timeliness: The dataset may contain gaps, with no data for April, while there are approximately 30 reviews per month. "
   ]
  },
  {
   "cell_type": "code",
   "execution_count": null,
   "metadata": {},
   "outputs": [],
   "source": []
  }
 ],
 "metadata": {
  "kernelspec": {
   "display_name": "Python 3",
   "language": "python",
   "name": "python3"
  },
  "language_info": {
   "codemirror_mode": {
    "name": "ipython",
    "version": 3
   },
   "file_extension": ".py",
   "mimetype": "text/x-python",
   "name": "python",
   "nbconvert_exporter": "python",
   "pygments_lexer": "ipython3",
   "version": "3.8.5"
  }
 },
 "nbformat": 4,
 "nbformat_minor": 4
}
