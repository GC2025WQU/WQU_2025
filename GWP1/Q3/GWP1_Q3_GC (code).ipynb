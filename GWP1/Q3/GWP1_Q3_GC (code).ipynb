{
 "cells": [
  {
   "cell_type": "code",
   "execution_count": 1,
   "metadata": {},
   "outputs": [],
   "source": [
    "import os\n",
    "import pandas as pd\n",
    "import numpy as np\n",
    "import matplotlib.pyplot as plt\n",
    "from numpy import linalg as LA\n",
    "from fredapi import Fred\n",
    "\n",
    "#M1L4"
   ]
  },
  {
   "cell_type": "markdown",
   "metadata": {},
   "source": [
    "a. Generate 5 uncorrelated Gaussian random variables that simulate yield changes (they can be positive or negative with a mean close to 0 and a standard deviation that is small)."
   ]
  },
  {
   "cell_type": "code",
   "execution_count": 2,
   "metadata": {},
   "outputs": [],
   "source": [
    "np.random.seed(1)\n",
    "\n",
    "mu = 0\n",
    "std = 0.05\n",
    "\n",
    "yield_changes = pd.DataFrame(np.random.normal(loc=mu, scale=std, size=(100,5)))"
   ]
  },
  {
   "cell_type": "markdown",
   "metadata": {},
   "source": [
    "b. Run a Principal Components using EITHER the correlation OR covariance matrix."
   ]
  },
  {
   "cell_type": "code",
   "execution_count": 3,
   "metadata": {},
   "outputs": [
    {
     "data": {
      "text/html": [
       "<style  type=\"text/css\" >\n",
       "</style><table id=\"T_1d595bdd_99ff_11f0_aa1a_782b46e340fd\" ><thead>    <tr>        <th class=\"blank level0\" ></th>        <th class=\"col_heading level0 col0\" >Eigenvalues</th>        <th class=\"col_heading level0 col1\" >Explained proportion</th>    </tr></thead><tbody>\n",
       "                <tr>\n",
       "                        <th id=\"T_1d595bdd_99ff_11f0_aa1a_782b46e340fdlevel0_row0\" class=\"row_heading level0 row0\" >1</th>\n",
       "                        <td id=\"T_1d595bdd_99ff_11f0_aa1a_782b46e340fdrow0_col0\" class=\"data row0 col0\" >1.384668</td>\n",
       "                        <td id=\"T_1d595bdd_99ff_11f0_aa1a_782b46e340fdrow0_col1\" class=\"data row0 col1\" >27.69%</td>\n",
       "            </tr>\n",
       "            <tr>\n",
       "                        <th id=\"T_1d595bdd_99ff_11f0_aa1a_782b46e340fdlevel0_row1\" class=\"row_heading level0 row1\" >2</th>\n",
       "                        <td id=\"T_1d595bdd_99ff_11f0_aa1a_782b46e340fdrow1_col0\" class=\"data row1 col0\" >1.047263</td>\n",
       "                        <td id=\"T_1d595bdd_99ff_11f0_aa1a_782b46e340fdrow1_col1\" class=\"data row1 col1\" >20.95%</td>\n",
       "            </tr>\n",
       "            <tr>\n",
       "                        <th id=\"T_1d595bdd_99ff_11f0_aa1a_782b46e340fdlevel0_row2\" class=\"row_heading level0 row2\" >3</th>\n",
       "                        <td id=\"T_1d595bdd_99ff_11f0_aa1a_782b46e340fdrow2_col0\" class=\"data row2 col0\" >0.954461</td>\n",
       "                        <td id=\"T_1d595bdd_99ff_11f0_aa1a_782b46e340fdrow2_col1\" class=\"data row2 col1\" >19.09%</td>\n",
       "            </tr>\n",
       "            <tr>\n",
       "                        <th id=\"T_1d595bdd_99ff_11f0_aa1a_782b46e340fdlevel0_row3\" class=\"row_heading level0 row3\" >4</th>\n",
       "                        <td id=\"T_1d595bdd_99ff_11f0_aa1a_782b46e340fdrow3_col0\" class=\"data row3 col0\" >0.903765</td>\n",
       "                        <td id=\"T_1d595bdd_99ff_11f0_aa1a_782b46e340fdrow3_col1\" class=\"data row3 col1\" >18.08%</td>\n",
       "            </tr>\n",
       "            <tr>\n",
       "                        <th id=\"T_1d595bdd_99ff_11f0_aa1a_782b46e340fdlevel0_row4\" class=\"row_heading level0 row4\" >5</th>\n",
       "                        <td id=\"T_1d595bdd_99ff_11f0_aa1a_782b46e340fdrow4_col0\" class=\"data row4 col0\" >0.709842</td>\n",
       "                        <td id=\"T_1d595bdd_99ff_11f0_aa1a_782b46e340fdrow4_col1\" class=\"data row4 col1\" >14.20%</td>\n",
       "            </tr>\n",
       "    </tbody></table>"
      ],
      "text/plain": [
       "<pandas.io.formats.style.Styler at 0x21ba682a940>"
      ]
     },
     "execution_count": 3,
     "metadata": {},
     "output_type": "execute_result"
    }
   ],
   "source": [
    "yield_changes_means = yield_changes.mean()\n",
    "yield_changes_stds = yield_changes.std()\n",
    "standardized_data = (yield_changes - yield_changes_means) / yield_changes_stds\n",
    "std_data_cov = standardized_data.cov()\n",
    "\n",
    "eigenvalues, eigenvectors = LA.eig(std_data_cov)\n",
    "\n",
    "sorted_indices = np.argsort(eigenvalues)[::-1]\n",
    "eigenvalues = eigenvalues[sorted_indices]\n",
    "eigenvectors = eigenvectors[:, sorted_indices]\n",
    "\n",
    "# Put data into a DataFrame\n",
    "df_eigval = pd.DataFrame({\"Eigenvalues\":eigenvalues}, index=range(1,6))\n",
    "\n",
    "# Work out explained proportion\n",
    "df_eigval[\"Explained proportion\"] = df_eigval[\"Eigenvalues\"] / np.sum(df_eigval[\"Eigenvalues\"])\n",
    "#Format as percentage\n",
    "df_eigval.style.format({\"Explained proportion\": \"{:.2%}\"})"
   ]
  },
  {
   "cell_type": "markdown",
   "metadata": {},
   "source": [
    "d. Produce a screeplot (see https://en.wikipedia.org/wiki/Scree_plot) of the variance explained for each component."
   ]
  },
  {
   "cell_type": "code",
   "execution_count": 4,
   "metadata": {},
   "outputs": [
    {
     "data": {
      "image/png": "[encoded data removed]",
      "text/plain": [
       "<Figure size 576x432 with 1 Axes>"
      ]
     },
     "metadata": {
      "needs_background": "light"
     },
     "output_type": "display_data"
    }
   ],
   "source": [
    "plt.figure(figsize=(8, 6))\n",
    "plt.plot(df_eigval.index, df_eigval[\"Explained proportion\"], 'o-', markersize=8, linewidth=2, label='Variance Explained')\n",
    "plt.xlabel('Principal Component')\n",
    "plt.ylabel('variance explained for each component')\n",
    "plt.title('Scree Plot of variance explained for each component')\n",
    "plt.xticks(df_eigval.index)\n",
    "plt.legend()\n",
    "plt.tight_layout()\n",
    "plt.ylim(0, 1)\n",
    "# Display the plot\n",
    "plt.show()"
   ]
  },
  {
   "cell_type": "markdown",
   "metadata": {},
   "source": [
    "e&f. Collect the daily closing yields for 5 government securities, say over 6 months"
   ]
  },
  {
   "cell_type": "code",
   "execution_count": 5,
   "metadata": {},
   "outputs": [],
   "source": [
    "# Using US Govie for different tenor\n",
    "\n",
    "# Initialize the FRED API with your key\n",
    "fred = Fred(api_key='5079f41d061a4037d81f3da69e018803') \n",
    "\n",
    "# List of Treasury yield series IDs\n",
    "series_ids = ['DGS1', 'DGS5', 'DGS10', 'DGS20', 'DGS30']\n",
    "\n",
    "# Function to get data for a single series\n",
    "def get_yield_data(series_id):\n",
    "    data = fred.get_series(series_id, observation_start=\"2025-03-24\", observation_end=\"2025-09-24\")\n",
    "    return data\n",
    "\n",
    "# Get data for all series\n",
    "yields_dict = {series_id: get_yield_data(series_id) for series_id in series_ids}\n",
    "\n",
    "# Combine into a single DataFrame\n",
    "yields = pd.DataFrame(yields_dict)\n",
    "\n",
    "# Rename columns for clarity\n",
    "yields.columns = ['1 Year', '5 Year', '10 Year', '20 Year', '30 Year']\n",
    "\n",
    "yield_changes = yields.diff().dropna()"
   ]
  },
  {
   "cell_type": "markdown",
   "metadata": {},
   "source": [
    "g. Re-run the Principal Components using EITHER the correlation or covariance matrix."
   ]
  },
  {
   "cell_type": "code",
   "execution_count": 6,
   "metadata": {},
   "outputs": [
    {
     "data": {
      "text/html": [
       "<style  type=\"text/css\" >\n",
       "</style><table id=\"T_1e97e5ea_99ff_11f0_bcfb_782b46e340fd\" ><thead>    <tr>        <th class=\"blank level0\" ></th>        <th class=\"col_heading level0 col0\" >Eigenvalues</th>        <th class=\"col_heading level0 col1\" >Explained proportion</th>    </tr></thead><tbody>\n",
       "                <tr>\n",
       "                        <th id=\"T_1e97e5ea_99ff_11f0_bcfb_782b46e340fdlevel0_row0\" class=\"row_heading level0 row0\" >1</th>\n",
       "                        <td id=\"T_1e97e5ea_99ff_11f0_bcfb_782b46e340fdrow0_col0\" class=\"data row0 col0\" >4.093228</td>\n",
       "                        <td id=\"T_1e97e5ea_99ff_11f0_bcfb_782b46e340fdrow0_col1\" class=\"data row0 col1\" >81.86%</td>\n",
       "            </tr>\n",
       "            <tr>\n",
       "                        <th id=\"T_1e97e5ea_99ff_11f0_bcfb_782b46e340fdlevel0_row1\" class=\"row_heading level0 row1\" >2</th>\n",
       "                        <td id=\"T_1e97e5ea_99ff_11f0_bcfb_782b46e340fdrow1_col0\" class=\"data row1 col0\" >0.765051</td>\n",
       "                        <td id=\"T_1e97e5ea_99ff_11f0_bcfb_782b46e340fdrow1_col1\" class=\"data row1 col1\" >15.30%</td>\n",
       "            </tr>\n",
       "            <tr>\n",
       "                        <th id=\"T_1e97e5ea_99ff_11f0_bcfb_782b46e340fdlevel0_row2\" class=\"row_heading level0 row2\" >3</th>\n",
       "                        <td id=\"T_1e97e5ea_99ff_11f0_bcfb_782b46e340fdrow2_col0\" class=\"data row2 col0\" >0.114369</td>\n",
       "                        <td id=\"T_1e97e5ea_99ff_11f0_bcfb_782b46e340fdrow2_col1\" class=\"data row2 col1\" >2.29%</td>\n",
       "            </tr>\n",
       "            <tr>\n",
       "                        <th id=\"T_1e97e5ea_99ff_11f0_bcfb_782b46e340fdlevel0_row3\" class=\"row_heading level0 row3\" >4</th>\n",
       "                        <td id=\"T_1e97e5ea_99ff_11f0_bcfb_782b46e340fdrow3_col0\" class=\"data row3 col0\" >0.014376</td>\n",
       "                        <td id=\"T_1e97e5ea_99ff_11f0_bcfb_782b46e340fdrow3_col1\" class=\"data row3 col1\" >0.29%</td>\n",
       "            </tr>\n",
       "            <tr>\n",
       "                        <th id=\"T_1e97e5ea_99ff_11f0_bcfb_782b46e340fdlevel0_row4\" class=\"row_heading level0 row4\" >5</th>\n",
       "                        <td id=\"T_1e97e5ea_99ff_11f0_bcfb_782b46e340fdrow4_col0\" class=\"data row4 col0\" >0.012976</td>\n",
       "                        <td id=\"T_1e97e5ea_99ff_11f0_bcfb_782b46e340fdrow4_col1\" class=\"data row4 col1\" >0.26%</td>\n",
       "            </tr>\n",
       "    </tbody></table>"
      ],
      "text/plain": [
       "<pandas.io.formats.style.Styler at 0x21ba682a640>"
      ]
     },
     "execution_count": 6,
     "metadata": {},
     "output_type": "execute_result"
    }
   ],
   "source": [
    "yield_changes_means = yield_changes.mean()\n",
    "yield_changes_stds = yield_changes.std()\n",
    "standardized_data = (yield_changes - yield_changes_means) / yield_changes_stds\n",
    "std_data_cov = standardized_data.cov()\n",
    "\n",
    "eigenvalues, eigenvectors = LA.eig(std_data_cov)\n",
    "\n",
    "sorted_indices = np.argsort(eigenvalues)[::-1]\n",
    "eigenvalues = eigenvalues[sorted_indices]\n",
    "eigenvectors = eigenvectors[:, sorted_indices]\n",
    "\n",
    "# Put data into a DataFrame\n",
    "df_eigval = pd.DataFrame({\"Eigenvalues\":eigenvalues}, index=range(1,6))\n",
    "\n",
    "# Work out explained proportion\n",
    "df_eigval[\"Explained proportion\"] = df_eigval[\"Eigenvalues\"] / np.sum(df_eigval[\"Eigenvalues\"])\n",
    "#Format as percentage\n",
    "df_eigval.style.format({\"Explained proportion\": \"{:.2%}\"})"
   ]
  },
  {
   "cell_type": "markdown",
   "metadata": {},
   "source": [
    "i. Produce a screeplot of the variance explained for each component."
   ]
  },
  {
   "cell_type": "code",
   "execution_count": 7,
   "metadata": {},
   "outputs": [
    {
     "data": {
      "image/png": "[encoded data removed]",
      "text/plain": [
       "<Figure size 576x432 with 1 Axes>"
      ]
     },
     "metadata": {
      "needs_background": "light"
     },
     "output_type": "display_data"
    }
   ],
   "source": [
    "plt.figure(figsize=(8, 6))\n",
    "plt.plot(df_eigval.index, df_eigval[\"Explained proportion\"], 'o-', markersize=8, linewidth=2, label='Variance Explained')\n",
    "plt.xlabel('Principal Component')\n",
    "plt.ylabel('variance explained for each component')\n",
    "plt.title('Scree Plot of variance explained for each component')\n",
    "plt.xticks(df_eigval.index)\n",
    "plt.legend()\n",
    "plt.tight_layout()\n",
    "plt.ylim(0, 1)\n",
    "# Display the plot\n",
    "plt.show()"
   ]
  }
 ],
 "metadata": {
  "kernelspec": {
   "display_name": "Python [conda env:base] *",
   "language": "python",
   "name": "conda-base-py"
  },
  "language_info": {
   "codemirror_mode": {
    "name": "ipython",
    "version": 3
   },
   "file_extension": ".py",
   "mimetype": "text/x-python",
   "name": "python",
   "nbconvert_exporter": "python",
   "pygments_lexer": "ipython3",
   "version": "3.12.3"
  }
 },
 "nbformat": 4,
 "nbformat_minor": 4
}
